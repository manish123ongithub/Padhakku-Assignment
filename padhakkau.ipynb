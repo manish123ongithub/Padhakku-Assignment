{
  "nbformat": 4,
  "nbformat_minor": 0,
  "metadata": {
    "colab": {
      "provenance": []
    },
    "kernelspec": {
      "name": "python3",
      "display_name": "Python 3"
    },
    "language_info": {
      "name": "python"
    }
  },
  "cells": [
    {
      "cell_type": "code",
      "execution_count": null,
      "metadata": {
        "id": "wDDEQKeuXtrC"
      },
      "outputs": [],
      "source": [
        "\n",
        "import scrapy\n",
        "\n",
        "class LinkedJobsSpider(scrapy.Spider):\n",
        "    name = \"linkedin_jobs\"\n",
        "    api_url = 'https://www.linkedin.com/jobs-guest/jobs/api/seeMoreJobPostings/search?keywords=softwaredeveloper&location=india%2BStates&geoId=103644278&trk=public_jobs_jobs-search-bar_search-submit&start='\n",
        "\n",
        "    def start_requests(self):\n",
        "        first_job_on_page = 0\n",
        "        first_url = self.api_url + str(first_job_on_page)\n",
        "        yield scrapy.Request(url=first_url, callback=self.parse_job, meta={'first_job_on_page': first_job_on_page})\n",
        "\n",
        "\n",
        "    def parse_job(self, response):\n",
        "        first_job_on_page = response.meta['first_job_on_page']\n",
        "\n",
        "        job_item = {}\n",
        "        jobs = response.css(\"li\")\n",
        "\n",
        "        num_jobs_returned = len(jobs)\n",
        "        print(\"******* Num Jobs Returned *******\")\n",
        "        print(num_jobs_returned)\n",
        "        print('*****')\n",
        "\n",
        "        for job in jobs:\n",
        "\n",
        "            job_item['job_title'] = job.css(\"h3::text\").get(default='not-found').strip()\n",
        "            job_item['job_detail_url'] = job.css(\".base-card__full-link::attr(href)\").get(default='not-found').strip()\n",
        "            job_item['job_listed'] = job.css('time::text').get(default='not-found').strip()\n",
        "\n",
        "            job_item['company_name'] = job.css('h4 a::text').get(default='not-found').strip()\n",
        "            job_item['company_link'] = job.css('h4 a::attr(href)').get(default='not-found')\n",
        "            job_item['company_location'] = job.css('.job-search-card__location::text').get(default='not-found').strip()\n",
        "            yield job_item\n",
        "\n"
      ]
    },
    {
      "cell_type": "code",
      "source": [
        "\n",
        "{\n",
        "    \"job_title\": \"Python\",\n",
        "    \"job_detail_url\": \"https://www.linkedin.com/jobs/view/python-at-tekvivid-inc-3399462007?refId=gp%2BAUq%2F0FaeOqQ97Rr8qsQ%3D%3D&trackingId=x9Qvh8AW3HntMfy%2Fj7IoSw%3D%3D&position=1&pageNum=0&trk=public_jobs_jserp-result_search-card\",\n",
        "    \"job_listed\": \"1 day ago\",\n",
        "    \"company_name\": \"TekVivid, Inc\",\n",
        "    \"company_link\": \"https://www.linkedin.com/company/tekvividinc?trk=public_jobs_jserp-result_job-search-card-subtitle\",\n",
        "    \"company_location\": \"Gurgaon, India\"\n",
        "},\n"
      ],
      "metadata": {
        "id": "P7MMpCEkXuMT"
      },
      "execution_count": null,
      "outputs": []
    },
    {
      "cell_type": "code",
      "source": [
        "\n",
        "\n",
        "    def parse_job(self, response):\n",
        "        first_job_on_page = response.meta['first_job_on_page']\n",
        "\n",
        "        job_item = {}\n",
        "        jobs = response.css(\"li\")\n",
        "\n",
        "        num_jobs_returned = len(jobs)\n",
        "        print(\"******* Num Jobs Returned *******\")\n",
        "        print(num_jobs_returned)\n",
        "        print('*****')\n",
        "\n",
        "        for job in jobs:\n",
        "\n",
        "            job_item['job_title'] = job.css(\"h3::text\").get(default='not-found').strip()\n",
        "            job_item['job_detail_url'] = job.css(\".base-card__full-link::attr(href)\").get(default='not-found').strip()\n",
        "            job_item['job_listed'] = job.css('time::text').get(default='not-found').strip()\n",
        "\n",
        "            job_item['company_name'] = job.css('h4 a::text').get(default='not-found').strip()\n",
        "            job_item['company_link'] = job.css('h4 a::attr(href)').get(default='not-found')\n",
        "            job_item['company_location'] = job.css('.job-search-card__location::text').get(default='not-found').strip()\n",
        "            yield job_item\n",
        "\n",
        "        #### REQUEST NEXT PAGE OF JOBS HERE ######\n",
        "        if num_jobs_returned > 0:\n",
        "            first_job_on_page = int(first_job_on_page) + 25\n",
        "            next_url = self.api_url + str(first_job_on_page)\n",
        "            yield scrapy.Request(url=next_url, callback=self.parse_job, meta={'first_job_on_page': first_job_on_page})\n"
      ],
      "metadata": {
        "id": "e3F5-ty7XuOh"
      },
      "execution_count": null,
      "outputs": []
    },
    {
      "cell_type": "code",
      "source": [],
      "metadata": {
        "id": "M0-KZxGZXuSO"
      },
      "execution_count": null,
      "outputs": []
    },
    {
      "cell_type": "code",
      "source": [],
      "metadata": {
        "id": "t-87sYFnXuUl"
      },
      "execution_count": null,
      "outputs": []
    },
    {
      "cell_type": "code",
      "source": [],
      "metadata": {
        "id": "XnqoiannXuWf"
      },
      "execution_count": null,
      "outputs": []
    },
    {
      "cell_type": "code",
      "source": [],
      "metadata": {
        "id": "adfKpM8eXuZI"
      },
      "execution_count": null,
      "outputs": []
    },
    {
      "cell_type": "code",
      "source": [],
      "metadata": {
        "id": "bQzrJ5dpXucG"
      },
      "execution_count": null,
      "outputs": []
    },
    {
      "cell_type": "code",
      "source": [],
      "metadata": {
        "id": "SLOvgYDiXufk"
      },
      "execution_count": null,
      "outputs": []
    }
  ]
}
